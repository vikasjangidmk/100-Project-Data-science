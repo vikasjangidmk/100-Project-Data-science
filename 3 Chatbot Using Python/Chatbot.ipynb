{
 "cells": [
  {
   "cell_type": "code",
   "execution_count": 1,
   "metadata": {},
   "outputs": [],
   "source": [
    "import nltk\n",
    "import random\n",
    "from sklearn.feature_extraction.text import TfidfVectorizer\n",
    "from sklearn.linear_model import LogisticRegression"
   ]
  },
  {
   "cell_type": "code",
   "execution_count": 2,
   "metadata": {},
   "outputs": [
    {
     "name": "stderr",
     "output_type": "stream",
     "text": [
      "[nltk_data] Downloading package punkt to\n",
      "[nltk_data]     C:\\Users\\vikas\\AppData\\Roaming\\nltk_data...\n",
      "[nltk_data]   Package punkt is already up-to-date!\n"
     ]
    },
    {
     "data": {
      "text/plain": [
       "True"
      ]
     },
     "execution_count": 2,
     "metadata": {},
     "output_type": "execute_result"
    }
   ],
   "source": [
    "# Download necessary NLTK data\n",
    "nltk.download(\"punkt\")"
   ]
  },
  {
   "cell_type": "code",
   "execution_count": 3,
   "metadata": {},
   "outputs": [],
   "source": [
    "intents = [\n",
    "    {\n",
    "        \"tag\": \"greeting\",\n",
    "        \"patterns\": [\"Hi\", \"Hello\", \"Hey\", \"Howdy\", \"Good morning\", \"Good evening\", \"What's up?\", \"Greetings!\"],\n",
    "        \"responses\": [\"Hello! How can I assist you today?\", \"Hi there! How can I help?\", \"Hey! What can I do for you?\"]\n",
    "    },\n",
    "    {\n",
    "        \"tag\": \"goodbye\",\n",
    "        \"patterns\": [\"Bye\", \"Goodbye\", \"See you later\", \"Take care\", \"Catch you later\", \"I'm leaving\"],\n",
    "        \"responses\": [\"Goodbye! Have a great day!\", \"See you later!\", \"Take care and stay safe!\"]\n",
    "    },\n",
    "    {\n",
    "        \"tag\": \"thanks\",\n",
    "        \"patterns\": [\"Thank you\", \"Thanks\", \"Thanks a lot\", \"Much appreciated\", \"I'm grateful\"],\n",
    "        \"responses\": [\"You're welcome!\", \"No problem at all!\", \"Happy to help!\"]\n",
    "    },\n",
    "    {\n",
    "        \"tag\": \"help\",\n",
    "        \"patterns\": [\"Can you help me?\", \"I need assistance\", \"Help me please\", \"What support do you provide?\"],\n",
    "        \"responses\": [\"Sure, I'm here to assist. What's the issue?\", \"Of course! Tell me what you need help with.\", \"How can I support you today?\"]\n",
    "    },\n",
    "    {\n",
    "        \"tag\": \"weather\",\n",
    "        \"patterns\": [\"What's the weather like?\", \"How's the weather?\", \"Is it sunny today?\", \"Will it rain today?\"],\n",
    "        \"responses\": [\"I can't provide real-time weather updates, but you can check a weather app or website.\", \"I'm sorry, I don't have live weather data.\"]\n",
    "    },\n",
    "    {\n",
    "        \"tag\": \"about\",\n",
    "        \"patterns\": [\"Who are you?\", \"What are you?\", \"Tell me about yourself\", \"What can you do?\"],\n",
    "        \"responses\": [\"I am a chatbot here to assist you with your queries.\", \"I'm a virtual assistant designed to help with various tasks.\"]\n",
    "    },\n",
    "    {\n",
    "        \"tag\": \"funny\",\n",
    "        \"patterns\": [\"Tell me a joke\", \"Make me laugh\", \"Do you know any jokes?\", \"Be funny\"],\n",
    "        \"responses\": [\"Why don't scientists trust atoms? Because they make up everything!\", \"What do you call fake spaghetti? An impasta!\", \"I told my computer I needed a break, and now it won’t stop sending me KitKat ads.\"]\n",
    "    },\n",
    "    {\n",
    "        \"tag\": \"time\",\n",
    "        \"patterns\": [\"What time is it?\", \"Can you tell me the time?\", \"What's the current time?\"],\n",
    "        \"responses\": [\"I can't check the time, but your device should have the correct time.\"]\n",
    "    },\n",
    "    {\n",
    "        \"tag\": \"date\",\n",
    "        \"patterns\": [\"What's the date today?\", \"Can you tell me today's date?\", \"What's today's date?\"],\n",
    "        \"responses\": [\"I'm not sure of the exact date, but you can check your calendar.\", \"Today's date should be displayed on your device.\"]\n",
    "    },\n",
    "    {\n",
    "        \"tag\": \"motivation\",\n",
    "        \"patterns\": [\"Give me some motivation\", \"Motivate me\", \"I need inspiration\", \"Feeling low\"],\n",
    "        \"responses\": [\"Believe in yourself and all that you are. Know that there is something inside you that is greater than any obstacle.\", \"You're capable of amazing things! Keep pushing forward.\", \"Every day is a new opportunity to grow and improve. You've got this!\"]\n",
    "    },\n",
    "    {\n",
    "        \"tag\": \"programming\",\n",
    "        \"patterns\": [\"How do I learn programming?\", \"What's the best way to code?\", \"Can you help me with programming?\"],\n",
    "        \"responses\": [\"Start with basics like Python or JavaScript. Practice regularly and work on small projects.\", \"Online platforms like Codecademy, freeCodeCamp, or Coursera are great for learning programming.\", \"Consistent practice and problem-solving on sites like HackerRank or LeetCode will boost your skills.\"]\n",
    "    },\n",
    "    {\n",
    "        \"tag\": \"general_knowledge\",\n",
    "        \"patterns\": [\"Tell me something interesting\", \"Do you know any fun facts?\", \"Share some knowledge\"],\n",
    "        \"responses\": [\"Did you know that honey never spoils? Archaeologists have found pots of honey in ancient Egyptian tombs that are over 3,000 years old and still edible!\", \"The Eiffel Tower can be 15 cm taller during the summer due to thermal expansion of metal.\"]\n",
    "    },\n",
    "    {\n",
    "        \"tag\": \"travel\",\n",
    "        \"patterns\": [\"What are the best travel destinations?\", \"Can you suggest some vacation spots?\", \"Where should I travel?\"],\n",
    "        \"responses\": [\"Paris is great for romance and art lovers. Bali is ideal for tropical getaways. Iceland is perfect for nature enthusiasts!\", \"For a cultural experience, visit Kyoto in Japan. For adventure, try New Zealand or Peru!\"]\n",
    "    },\n",
    "    {\n",
    "        \"tag\": \"health\",\n",
    "        \"patterns\": [\"How can I stay healthy?\", \"What are some health tips?\", \"Any advice for a healthy lifestyle?\"],\n",
    "        \"responses\": [\"Stay hydrated, eat a balanced diet, exercise regularly, and get enough sleep.\", \"Meditation and mindfulness can also improve your mental health.\"]\n",
    "    },\n",
    "    {\n",
    "        \"tag\": \"technology\",\n",
    "        \"patterns\": [\"What's the latest in tech?\", \"Tell me about new technologies\", \"What's trending in technology?\"],\n",
    "        \"responses\": [\"AI and machine learning are revolutionizing industries. Blockchain is advancing financial systems, and renewable energy technologies are growing rapidly.\", \"You might want to explore innovations in 5G, electric vehicles, or augmented reality.\"]\n",
    "    }\n",
    "]\n"
   ]
  },
  {
   "cell_type": "code",
   "execution_count": 4,
   "metadata": {},
   "outputs": [],
   "source": [
    "# Initialize vectorizer and classifier\n",
    "vectorizer = TfidfVectorizer()\n",
    "classifier = LogisticRegression(random_state=0, max_iter=10000)"
   ]
  },
  {
   "cell_type": "code",
   "execution_count": 5,
   "metadata": {},
   "outputs": [],
   "source": [
    "# Prepare training data\n",
    "tags = []\n",
    "patterns = []\n",
    "\n",
    "for intent in intents:\n",
    "    for pattern in intent['patterns']:\n",
    "        tags.append(intent[\"tag\"])\n",
    "        patterns.append(pattern)"
   ]
  },
  {
   "cell_type": "code",
   "execution_count": 6,
   "metadata": {},
   "outputs": [
    {
     "data": {
      "text/html": [
       "<style>#sk-container-id-1 {color: black;}#sk-container-id-1 pre{padding: 0;}#sk-container-id-1 div.sk-toggleable {background-color: white;}#sk-container-id-1 label.sk-toggleable__label {cursor: pointer;display: block;width: 100%;margin-bottom: 0;padding: 0.3em;box-sizing: border-box;text-align: center;}#sk-container-id-1 label.sk-toggleable__label-arrow:before {content: \"▸\";float: left;margin-right: 0.25em;color: #696969;}#sk-container-id-1 label.sk-toggleable__label-arrow:hover:before {color: black;}#sk-container-id-1 div.sk-estimator:hover label.sk-toggleable__label-arrow:before {color: black;}#sk-container-id-1 div.sk-toggleable__content {max-height: 0;max-width: 0;overflow: hidden;text-align: left;background-color: #f0f8ff;}#sk-container-id-1 div.sk-toggleable__content pre {margin: 0.2em;color: black;border-radius: 0.25em;background-color: #f0f8ff;}#sk-container-id-1 input.sk-toggleable__control:checked~div.sk-toggleable__content {max-height: 200px;max-width: 100%;overflow: auto;}#sk-container-id-1 input.sk-toggleable__control:checked~label.sk-toggleable__label-arrow:before {content: \"▾\";}#sk-container-id-1 div.sk-estimator input.sk-toggleable__control:checked~label.sk-toggleable__label {background-color: #d4ebff;}#sk-container-id-1 div.sk-label input.sk-toggleable__control:checked~label.sk-toggleable__label {background-color: #d4ebff;}#sk-container-id-1 input.sk-hidden--visually {border: 0;clip: rect(1px 1px 1px 1px);clip: rect(1px, 1px, 1px, 1px);height: 1px;margin: -1px;overflow: hidden;padding: 0;position: absolute;width: 1px;}#sk-container-id-1 div.sk-estimator {font-family: monospace;background-color: #f0f8ff;border: 1px dotted black;border-radius: 0.25em;box-sizing: border-box;margin-bottom: 0.5em;}#sk-container-id-1 div.sk-estimator:hover {background-color: #d4ebff;}#sk-container-id-1 div.sk-parallel-item::after {content: \"\";width: 100%;border-bottom: 1px solid gray;flex-grow: 1;}#sk-container-id-1 div.sk-label:hover label.sk-toggleable__label {background-color: #d4ebff;}#sk-container-id-1 div.sk-serial::before {content: \"\";position: absolute;border-left: 1px solid gray;box-sizing: border-box;top: 0;bottom: 0;left: 50%;z-index: 0;}#sk-container-id-1 div.sk-serial {display: flex;flex-direction: column;align-items: center;background-color: white;padding-right: 0.2em;padding-left: 0.2em;position: relative;}#sk-container-id-1 div.sk-item {position: relative;z-index: 1;}#sk-container-id-1 div.sk-parallel {display: flex;align-items: stretch;justify-content: center;background-color: white;position: relative;}#sk-container-id-1 div.sk-item::before, #sk-container-id-1 div.sk-parallel-item::before {content: \"\";position: absolute;border-left: 1px solid gray;box-sizing: border-box;top: 0;bottom: 0;left: 50%;z-index: -1;}#sk-container-id-1 div.sk-parallel-item {display: flex;flex-direction: column;z-index: 1;position: relative;background-color: white;}#sk-container-id-1 div.sk-parallel-item:first-child::after {align-self: flex-end;width: 50%;}#sk-container-id-1 div.sk-parallel-item:last-child::after {align-self: flex-start;width: 50%;}#sk-container-id-1 div.sk-parallel-item:only-child::after {width: 0;}#sk-container-id-1 div.sk-dashed-wrapped {border: 1px dashed gray;margin: 0 0.4em 0.5em 0.4em;box-sizing: border-box;padding-bottom: 0.4em;background-color: white;}#sk-container-id-1 div.sk-label label {font-family: monospace;font-weight: bold;display: inline-block;line-height: 1.2em;}#sk-container-id-1 div.sk-label-container {text-align: center;}#sk-container-id-1 div.sk-container {/* jupyter's `normalize.less` sets `[hidden] { display: none; }` but bootstrap.min.css set `[hidden] { display: none !important; }` so we also need the `!important` here to be able to override the default hidden behavior on the sphinx rendered scikit-learn.org. See: https://github.com/scikit-learn/scikit-learn/issues/21755 */display: inline-block !important;position: relative;}#sk-container-id-1 div.sk-text-repr-fallback {display: none;}</style><div id=\"sk-container-id-1\" class=\"sk-top-container\"><div class=\"sk-text-repr-fallback\"><pre>LogisticRegression(max_iter=10000, random_state=0)</pre><b>In a Jupyter environment, please rerun this cell to show the HTML representation or trust the notebook. <br />On GitHub, the HTML representation is unable to render, please try loading this page with nbviewer.org.</b></div><div class=\"sk-container\" hidden><div class=\"sk-item\"><div class=\"sk-estimator sk-toggleable\"><input class=\"sk-toggleable__control sk-hidden--visually\" id=\"sk-estimator-id-1\" type=\"checkbox\" checked><label for=\"sk-estimator-id-1\" class=\"sk-toggleable__label sk-toggleable__label-arrow\">LogisticRegression</label><div class=\"sk-toggleable__content\"><pre>LogisticRegression(max_iter=10000, random_state=0)</pre></div></div></div></div></div>"
      ],
      "text/plain": [
       "LogisticRegression(max_iter=10000, random_state=0)"
      ]
     },
     "execution_count": 6,
     "metadata": {},
     "output_type": "execute_result"
    }
   ],
   "source": [
    "# Train classifier\n",
    "x = vectorizer.fit_transform(patterns)\n",
    "y = tags\n",
    "classifier.fit(x, y)"
   ]
  },
  {
   "cell_type": "code",
   "execution_count": 7,
   "metadata": {},
   "outputs": [],
   "source": [
    "# Chatbot response function\n",
    "def chatbot_response(text):\n",
    "    input_text = vectorizer.transform([text])\n",
    "    predicted_tag = classifier.predict(input_text)[0]\n",
    "    for intent in intents:\n",
    "        if intent[\"tag\"] == predicted_tag:\n",
    "            return random.choice(intent['responses'])\n",
    "    return \"I'm sorry, I don't understand.\""
   ]
  },
  {
   "cell_type": "code",
   "execution_count": 8,
   "metadata": {},
   "outputs": [
    {
     "name": "stdout",
     "output_type": "stream",
     "text": [
      "Chatbot is ready to chat! Type 'exit' to quit.\n",
      "Chatbot-> Why don't scientists trust atoms? Because they make up everything!\n",
      "Chatbot-> Goodbye! Have a great day!\n"
     ]
    }
   ],
   "source": [
    "def start_chat():\n",
    "    print(\"Chatbot is ready to chat! Type 'exit' to quit.\")\n",
    "    while True:\n",
    "        query = input(\"User-> \")\n",
    "        if query.lower() in ['exit', 'quit']:\n",
    "            print(\"Chatbot-> Goodbye! Have a great day!\")\n",
    "            break  # Exit the loop\n",
    "        response = chatbot_response(query)\n",
    "        print(\"Chatbot->\", response)\n",
    "\n",
    "# Start chat\n",
    "if __name__ == \"__main__\":\n",
    "    start_chat()\n"
   ]
  },
  {
   "cell_type": "code",
   "execution_count": 9,
   "metadata": {},
   "outputs": [
    {
     "name": "stdout",
     "output_type": "stream",
     "text": [
      "The End\n"
     ]
    }
   ],
   "source": [
    "print(\"The End\")"
   ]
  }
 ],
 "metadata": {
  "kernelspec": {
   "display_name": "Data",
   "language": "python",
   "name": "python3"
  },
  "language_info": {
   "codemirror_mode": {
    "name": "ipython",
    "version": 3
   },
   "file_extension": ".py",
   "mimetype": "text/x-python",
   "name": "python",
   "nbconvert_exporter": "python",
   "pygments_lexer": "ipython3",
   "version": "3.11.0"
  }
 },
 "nbformat": 4,
 "nbformat_minor": 2
}
